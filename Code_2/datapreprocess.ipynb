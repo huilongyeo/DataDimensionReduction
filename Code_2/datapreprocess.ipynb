{
 "cells": [
  {
   "cell_type": "code",
   "execution_count": 1,
   "metadata": {},
   "outputs": [],
   "source": [
    "import pandas as pd\n",
    "import numpy as np\n",
    "import random\n",
    "from sklearn.preprocessing import StandardScaler, PowerTransformer\n",
    "from sklearn.model_selection import train_test_split"
   ]
  },
  {
   "cell_type": "code",
   "execution_count": 2,
   "metadata": {},
   "outputs": [
    {
     "name": "stdout",
     "output_type": "stream",
     "text": [
      "data read...\n",
      "data readed\n"
     ]
    }
   ],
   "source": [
    "np.random.seed(42)\n",
    "random.seed(42)\n",
    "\n",
    "print(\"data read...\")\n",
    "path = \"./data/UNSW_NB15_training-set.csv\"\n",
    "train_data = pd.read_csv(path)\n",
    "path = \"./data/UNSW_NB15_testing-set.csv\"\n",
    "test_data = pd.read_csv(path)\n",
    "data = pd.concat([train_data, test_data], ignore_index=True)\n",
    "print(\"data readed\")"
   ]
  },
  {
   "cell_type": "code",
   "execution_count": 3,
   "metadata": {},
   "outputs": [],
   "source": [
    "Label = data['attack_cat']\n",
    "data = data.drop([\"id\", \"attack_cat\", \"label\"], axis=1)"
   ]
  },
  {
   "cell_type": "code",
   "execution_count": 4,
   "metadata": {},
   "outputs": [
    {
     "name": "stdout",
     "output_type": "stream",
     "text": [
      "data preprocess...\n"
     ]
    }
   ],
   "source": [
    "print(\"data preprocess...\")\n",
    "\n",
    "non_numeric_columns = data.select_dtypes(exclude=[np.number]).columns\n",
    "\n",
    "for col in non_numeric_columns:\n",
    "    freq_encoding = data[col].value_counts()\n",
    "    encoding_map = freq_encoding.to_dict()\n",
    "    data[col] = data[col].map(encoding_map)"
   ]
  },
  {
   "cell_type": "code",
   "execution_count": 5,
   "metadata": {},
   "outputs": [
    {
     "name": "stdout",
     "output_type": "stream",
     "text": [
      "data preprocess completed\n"
     ]
    }
   ],
   "source": [
    "# replace infinity data\n",
    "column = data.columns\n",
    "data = data.replace([np.inf, -np.inf], np.finfo(np.float32).max)\n",
    "data = pd.DataFrame(data)\n",
    "\n",
    "# log\n",
    "pt = PowerTransformer(method=\"yeo-johnson\")\n",
    "data = pt.fit_transform(data)\n",
    "\n",
    "scalar = StandardScaler()\n",
    "data = scalar.fit_transform(data)\n",
    "\n",
    "data = pd.DataFrame(data)\n",
    "data.columns = column\n",
    "print(\"data preprocess completed\")\n",
    "\n",
    "data = pd.concat([data, Label], axis=1)\n",
    "\n",
    "train_data, test_data = train_test_split(data, test_size=0.2)\n",
    "\n",
    "train_data.to_csv(\"./data/train.csv\", index=False)\n",
    "test_data.to_csv(\"./data/test.csv\", index=False)"
   ]
  }
 ],
 "metadata": {
  "kernelspec": {
   "display_name": "Python 3",
   "language": "python",
   "name": "python3"
  },
  "language_info": {
   "codemirror_mode": {
    "name": "ipython",
    "version": 3
   },
   "file_extension": ".py",
   "mimetype": "text/x-python",
   "name": "python",
   "nbconvert_exporter": "python",
   "pygments_lexer": "ipython3",
   "version": "3.11.0rc1"
  }
 },
 "nbformat": 4,
 "nbformat_minor": 2
}
